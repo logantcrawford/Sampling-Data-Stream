{
 "cells": [
  {
   "cell_type": "markdown",
   "metadata": {},
   "source": [
    "<img src=\"assets/sampling.jpg\" alt=\"Data Mining: Sampling and Counting ft. Twitter Data\" style=\"width: 1000px;\"/>"
   ]
  },
  {
   "cell_type": "markdown",
   "metadata": {},
   "source": [
    "# Sampling a Data Stream"
   ]
  },
  {
   "cell_type": "markdown",
   "metadata": {},
   "source": [
    "For real-world data mining applications, streamed data can come in fast. It's estimated that every single day around 500 million tweets are posted. If we imagine that the data stored for each tweet is on average 1 kilobyte, that is 500 gigabytes daily.  For a large corporation like Twitter, this might be reasonable, but for researchers, data scientists, hobbyists, and smaller companies collecting data, this is exceptionally challenging. This isn't even including the processing and transformations made, which could slow the process down. But suppose we are prepared to collect specific information that is important to us. In that case, we can sample the incoming data to manage the vital information and drastically reduce storage space and processing time. We will be working with two types of sampling, random sampling and reservoir sampling, for this analysis. \n",
    "\n",
    "Random sampling is used to generate a subset of individuals chosen from a more extensive set in which a subset of individuals is chosen randomly. Though this method is excellent, it can suffer by missing out on a particular group. There are other ways to handle random sampling, but we will be working with a general lottery system for this analysis. \n",
    "\n",
    "Reservoir sampling is used to generate randomized algorithms for choosing a simple random sample, without replacement, of $k$ items from a population of unknown size $n$ in a single pass over the items.\n",
    "\n",
    "Starting this analysis, we will begin the Tweepy API using my private Twitter API credentials. These can be updated through the `assets/` folder and creating an access.txt in the format:\n",
    "\n",
    "`consumer_key = 'string'\n",
    "consumer_secret = 'string'\n",
    "access_token = 'string'\n",
    "access_token_secret = 'string'\n",
    "bearer_token = 'string'`\n",
    "\n",
    "### extract_emojis()\n",
    "Additionally, we will declare the `extract_emojis()` function, which uses the library emoji to return a list of all the emojis used in a string.\n",
    "\n",
    "### retrieve_hashtag_tweets()\n",
    "This simple function allows us to collect information about a specific hashtag with as many iterations as the Twitter API allows. It then returns a list of JSON objects which are the returned Tweet information.\n",
    "\n",
    "### retrieve_tweets()\n",
    "retrieve_tweets takes in a list of JSON Tweet data and returns the text of the Tweet. "
   ]
  },
  {
   "cell_type": "code",
   "execution_count": 1,
   "metadata": {},
   "outputs": [
    {
     "name": "stdout",
     "output_type": "stream",
     "text": [
      "Requirement already satisfied: tweepy in c:\\users\\logan\\anaconda3\\lib\\site-packages (3.10.0)\n",
      "Requirement already satisfied: six>=1.10.0 in c:\\users\\logan\\anaconda3\\lib\\site-packages (from tweepy) (1.15.0)\n",
      "Requirement already satisfied: requests[socks]>=2.11.1 in c:\\users\\logan\\anaconda3\\lib\\site-packages (from tweepy) (2.22.0)\n",
      "Requirement already satisfied: requests-oauthlib>=0.7.0 in c:\\users\\logan\\anaconda3\\lib\\site-packages (from tweepy) (1.3.0)\n",
      "Requirement already satisfied: idna<2.9,>=2.5 in c:\\users\\logan\\anaconda3\\lib\\site-packages (from requests[socks]>=2.11.1->tweepy) (2.8)\n",
      "Requirement already satisfied: chardet<3.1.0,>=3.0.2 in c:\\users\\logan\\anaconda3\\lib\\site-packages (from requests[socks]>=2.11.1->tweepy) (3.0.4)\n",
      "Requirement already satisfied: urllib3!=1.25.0,!=1.25.1,<1.26,>=1.21.1 in c:\\users\\logan\\anaconda3\\lib\\site-packages (from requests[socks]>=2.11.1->tweepy) (1.25.8)\n",
      "Requirement already satisfied: certifi>=2017.4.17 in c:\\users\\logan\\anaconda3\\lib\\site-packages (from requests[socks]>=2.11.1->tweepy) (2020.12.5)\n",
      "Requirement already satisfied: PySocks!=1.5.7,>=1.5.6; extra == \"socks\" in c:\\users\\logan\\anaconda3\\lib\\site-packages (from requests[socks]>=2.11.1->tweepy) (1.7.1)\n",
      "Requirement already satisfied: oauthlib>=3.0.0 in c:\\users\\logan\\anaconda3\\lib\\site-packages (from requests-oauthlib>=0.7.0->tweepy) (3.1.1)\n",
      "Requirement already satisfied: emoji in c:\\users\\logan\\anaconda3\\lib\\site-packages (1.2.0)\n"
     ]
    }
   ],
   "source": [
    "!pip install tweepy\n",
    "!pip install emoji"
   ]
  },
  {
   "cell_type": "code",
   "execution_count": 2,
   "metadata": {},
   "outputs": [],
   "source": [
    "import re\n",
    "import json\n",
    "import tweepy\n",
    "import random\n",
    "import numpy as np\n",
    "import pandas as pd\n",
    "import matplotlib.pyplot as plt\n",
    "from emoji import UNICODE_EMOJI\n",
    "from collections import defaultdict"
   ]
  },
  {
   "cell_type": "code",
   "execution_count": 3,
   "metadata": {},
   "outputs": [],
   "source": [
    "'''\n",
    "Load Twitter API keys and load Tweepy API\n",
    "'''\n",
    "key_names, key_dict = ['consumer_key', 'consumer_secret', 'access_token', 'access_token_secret', 'bearer_token'], {}\n",
    "keys = open('assets/access.txt', 'r')\n",
    "keys = re.findall(r\"'(.*?)'\", keys.read())\n",
    "\n",
    "for i, name in enumerate(key_names):\n",
    "    key_dict[name] = keys[i]\n",
    "    \n",
    "auth = tweepy.OAuthHandler(key_dict['consumer_key'], key_dict['consumer_secret'])\n",
    "auth.set_access_token(key_dict['access_token'], key_dict['access_token_secret'])\n",
    "api = tweepy.API(auth)"
   ]
  },
  {
   "cell_type": "code",
   "execution_count": 4,
   "metadata": {
    "scrolled": false
   },
   "outputs": [],
   "source": [
    "def extract_emojis(text):\n",
    "    '''\n",
    "    Extract all emojis from a str\n",
    "    '''\n",
    "    return [ch for ch in text if ch in UNICODE_EMOJI['en']]\n",
    "\n",
    "def retrieve_hashtag_tweets(hashtag='#nba', n=100):\n",
    "    '''\n",
    "    Retrieve the first n of the hashtag. \n",
    "    '''\n",
    "    def limit_handled(cursor):\n",
    "        n=0\n",
    "        while True:\n",
    "            try:\n",
    "                yield cursor.next()\n",
    "                n += 1\n",
    "            except:\n",
    "                print(f\"Reached rate limit after {n} iterations\")\n",
    "                break\n",
    "        return None\n",
    "    \n",
    "    tweets = []\n",
    "\n",
    "    for tweet in limit_handled(tweepy.Cursor(api.search, q=hashtag).items(n)):\n",
    "        tweets.append(tweet._json)\n",
    "    \n",
    "    return tweets\n",
    "\n",
    "def retrieve_tweets(tweet_list):\n",
    "    '''\n",
    "    Convert Tweet JSON data into list of Tweet text\n",
    "    '''\n",
    "    inst_list = []\n",
    "    for tweet in tweet_list:\n",
    "        inst_list.append(tweet['text'])\n",
    "        \n",
    "    return inst_list"
   ]
  },
  {
   "cell_type": "code",
   "execution_count": 5,
   "metadata": {},
   "outputs": [
    {
     "name": "stdout",
     "output_type": "stream",
     "text": [
      "Reached rate limit after 2000 iterations\n"
     ]
    }
   ],
   "source": [
    "tweets_json = retrieve_hashtag_tweets('#nba', 2000)"
   ]
  },
  {
   "cell_type": "code",
   "execution_count": 6,
   "metadata": {},
   "outputs": [
    {
     "data": {
      "text/plain": [
       "['#NBA\\xa0\\xa0\\xa0\\xa0PICKS 7/11\\n\\nGiannis u32.5 (-120)\\n\\n🔗 Premium picks: \\nhttps://t.co/3Wx8ZVmj2S\\n\\n#nba\\xa0\\xa0\\xa0\\xa0\\xa0\\xa0\\xa0\\xa0\\xa0\\xa0\\xa0\\xa0\\xa0\\xa0\\xa0\\xa0\\xa0\\xa0… https://t.co/KtdltZa3oa',\n",
       " 'RT @OddsShark: Who is the most overpaid player in the NBA? \\n\\n#NBATwitter #NBA',\n",
       " 'RT @Dee_Black_MMA_: Isaiah Austin and Royce White can both ball. Shame their conditions don’t allow them to be in the @nba #nba #big3 #isai…',\n",
       " 'RT @NotRickFlair: ❤️\\u200d🔥Giveaway Alert❤️\\u200d🔥\\nWant to win a @SewerRats_NFT ? Giving it to a random follower!\\n\\nTo win:\\n1⃣Follow @NotRickFlair \\n2⃣…',\n",
       " 'RT @NotRickFlair: ❤️\\u200d🔥Giveaway Alert❤️\\u200d🔥\\nWant to win a @SewerRats_NFT ? Giving it to a random follower!\\n\\nTo win:\\n1⃣Follow @NotRickFlair \\n2⃣…']"
      ]
     },
     "execution_count": 6,
     "metadata": {},
     "output_type": "execute_result"
    }
   ],
   "source": [
    "tweets = retrieve_tweets(tweets_json)\n",
    "tweets[0:5]"
   ]
  },
  {
   "cell_type": "markdown",
   "metadata": {},
   "source": [
    "# Random Sampling\n",
    "Random sampling is one of the simplest forms of collecting data from the total population. With random sampling, each Tweet has an equal opportunity to being added to the sample. Unfortunately, it is easy for otherwise essential data to be lost with this method as it relies on chance. Running this class multiple times results in quite significant differences. \n",
    "\n",
    "Creating `RandomSampler` contains two functions, `do_sampling` and `_process_new_item.` `do_sampling` iterates through tweets in the given stream and generates a random number compares it to the passed in the threshold, we are using `0.1` in this analysis. `_process_new_item` passes the Tweet into `extract_emojis`, generating a list of emojis which is added to the self.counts. "
   ]
  },
  {
   "cell_type": "code",
   "execution_count": 7,
   "metadata": {},
   "outputs": [],
   "source": [
    "class RandomSampler:\n",
    "    '''\n",
    "    Generate a subset of individuals chosen from a larger set in which a subset of individuals are chosen randomly.\n",
    "    '''\n",
    "    def __init__(self, in_sample_prob):\n",
    "        self.in_sample_prob = in_sample_prob\n",
    "        self.sample, self.counts = list(), defaultdict(int)\n",
    "    \n",
    "    def _process_new_item(self, item):\n",
    "        '''\n",
    "        Applies random sampling to a newly arrived item\n",
    "        '''\n",
    "        self.sample.append(item)\n",
    "        emojis = extract_emojis(item)\n",
    "        for emoji in emojis:\n",
    "            self.counts[emoji] = self.counts.get(emoji, 0) + 1\n",
    "        \n",
    "    def do_sampling(self, stream):\n",
    "        '''\n",
    "        Iterates over a stream and performs random sampling\n",
    "        '''\n",
    "        self.sample.clear() # clear the existing sample\n",
    "        self.counts.clear() # clear the existing counts\n",
    "        \n",
    "        for item in stream:\n",
    "            if random.uniform(0, 1) < in_sample_prob:\n",
    "                self._process_new_item(item)\n",
    "            \n",
    "            yield self.sample.copy(), self.counts.copy()"
   ]
  },
  {
   "cell_type": "code",
   "execution_count": 8,
   "metadata": {},
   "outputs": [
    {
     "name": "stdout",
     "output_type": "stream",
     "text": [
      "{'❤': 22, '🔥': 19, '🏀': 17, '🗣': 16, '😂': 6, '👏': 5, '🏾': 5, '🏆': 4, '🔔': 4, '🔃': 4, '👀': 4, '✅': 4, '👇': 3, '👨': 3, '🦱': 3, '🏿': 3, '😭': 3, '🏽': 2, '✍': 2, '🏁': 2, '🔌': 2, '🔋': 2, '🚨': 2, '🔵': 2, '🗓': 2, '🐐': 1, '🤗': 1, '📰': 1, '💥': 1, '🤔': 1, '📲': 1, '🎫': 1, '👩': 1, '🏻': 1, '😬': 1, '😳': 1, '😱': 1, '🚴': 1, '⚽': 1, '🎾': 1, '🥶': 1, '🛑': 1, '🙌': 1, '🦍': 1, '📝': 1, '📄': 1, '🎥': 1, '⚠': 1, '\\U0001f9a7': 1, '🧬': 1, '🦚': 1, '🎬': 1, '📺': 1, '📡': 1, '🎙': 1, '🌅': 1, '🖼': 1, '⁉': 1, '✨': 1, '☺': 1, '💸': 1, '🎉': 1, '🌞': 1, '🦌': 1}\n"
     ]
    }
   ],
   "source": [
    "in_sample_prob = 0.1\n",
    "rand_sample = RandomSampler(in_sample_prob)\n",
    "\n",
    "for _ in rand_sample.do_sampling(tweets):\n",
    "    pass\n",
    "\n",
    "sorted_counts = {emoji: rand_sample.counts[emoji] for emoji in sorted(rand_sample.counts.keys(), key=rand_sample.counts.get, reverse=True)}\n",
    "print(sorted_counts)"
   ]
  },
  {
   "cell_type": "code",
   "execution_count": 9,
   "metadata": {},
   "outputs": [
    {
     "data": {
      "image/png": "[encoded data removed]",
      "text/plain": [
       "<Figure size 720x432 with 1 Axes>"
      ]
     },
     "metadata": {
      "needs_background": "light"
     },
     "output_type": "display_data"
    }
   ],
   "source": [
    "fig, ax = plt.subplots(figsize=(10, 6))\n",
    "ax.bar(range(len(sorted_counts)), sorted_counts.values())\n",
    "ax.set_xlabel(\"Rank\")\n",
    "ax.set_ylabel(\"Frequency\")\n",
    "ax.set_title(\"Emoji Distribution\")\n",
    "\n",
    "del fig, ax"
   ]
  },
  {
   "cell_type": "markdown",
   "metadata": {},
   "source": [
    "# Reservoir Sampling\n",
    "Reservoir sampling is much more complex than random sampling but still carries some of the same traits. Though more complex, the algorithm is still relatively simple and can process very quickly. As mentioned above, reservoir sampling is used to generate randomized algorithms for choosing a simple random sample, without replacement, of $k$ items from a population of unknown size $n$ in a single pass over the items.\n",
    "\n",
    "Creating `ReservoirSampler` contains also two functions, `_process_new_item` and `do_sampling`. Both functions work slightly differently from the `RandomSampler` functions defined above. `do_sampling` enumerates through the streamed data; if the sample index is smaller than the sample_size, it automatically gets added in. It must fill this sample size before it moves to the lottery system. Once reaching the lottery system, it is similar to `RandomSampler,` but it incorporates more co"
   ]
  },
  {
   "cell_type": "code",
   "execution_count": 10,
   "metadata": {},
   "outputs": [],
   "source": [
    "class ReservoirSampler:\n",
    "    '''\n",
    "    Generate randomized algorithms for choosing a simple random sample, without replacement, of k items from \n",
    "    a population of unknown size n in a single pass over the items.\n",
    "    '''\n",
    "    def __init__(self, sample_size):\n",
    "        self.sample_size = sample_size\n",
    "        self.sample, self.counts = list(), defaultdict(int)\n",
    "    \n",
    "    def _process_new_item(self, item, index):\n",
    "        '''\n",
    "        Decides whether a new item should be added to the sample and adjusts the counts accordingly\n",
    "        '''\n",
    "        if len(self.sample) > self.sample_size - 1:   \n",
    "            rand_int = random.randint(0, self.sample_size)\n",
    "            for remove_emoji in extract_emojis(self.sample[rand_int - 1]):\n",
    "                self.counts[remove_emoji] = self.counts.get(remove_emoji, 0) - 1\n",
    "            del self.sample[rand_int - 1]\n",
    "            \n",
    "        self.sample.append(item)\n",
    "        emojis = extract_emojis(item)\n",
    "        for emoji in emojis:\n",
    "            self.counts[emoji] = self.counts.get(emoji, 0) + 1 \n",
    "        \n",
    "        self.counts = {k: y for k, y in self.counts.items() if y!=0}\n",
    "            \n",
    "    def do_sampling(self, stream):\n",
    "        '''\n",
    "        Iterates over a stream and performs reservoir sampling\n",
    "        '''\n",
    "        self.sample.clear() # clear the existing sample\n",
    "        self.counts.clear() # clear the existing counts\n",
    "\n",
    "        for index, item in enumerate(stream):\n",
    "            if index < self.sample_size:\n",
    "                self._process_new_item(item, index)\n",
    "            else:\n",
    "                rand_int = random.randint(0, self.sample_size)\n",
    "                if random.uniform(0, 1) < (self.sample_size / index):\n",
    "                    self._process_new_item(item, index)\n",
    "            \n",
    "            yield self.sample.copy(), self.counts.copy()"
   ]
  },
  {
   "cell_type": "code",
   "execution_count": 11,
   "metadata": {},
   "outputs": [
    {
     "name": "stdout",
     "output_type": "stream",
     "text": [
      "{'🗣': 13, '❤': 12, '🔥': 11, '🔌': 6, '🏆': 6, '🚨': 5, '🏀': 5, '🔋': 4, '💵': 4, '✍': 2, '👀': 2, '💥': 2, '👉': 2, '👈': 2, '🔔': 2, '🔃': 2, '🗓': 2, '🤯': 1, '😱': 1, '⚫': 1, '\\U0001f7e1': 1, '\\U0001f7e2': 1, '💪': 1, '😳': 1, '‼': 1, '🏅': 1, '📈': 1, '⚠': 1}\n"
     ]
    }
   ],
   "source": [
    "sample_size = 100\n",
    "res_sample = ReservoirSampler(sample_size)\n",
    "\n",
    "for _ in res_sample.do_sampling(tweets):\n",
    "    pass\n",
    "\n",
    "sorted_counts = {emoji: res_sample.counts[emoji] for emoji in sorted(res_sample.counts.keys(), key=res_sample.counts.get, reverse=True)}\n",
    "print(sorted_counts)"
   ]
  },
  {
   "cell_type": "code",
   "execution_count": 12,
   "metadata": {},
   "outputs": [
    {
     "data": {
      "image/png": "[encoded data removed]",
      "text/plain": [
       "<Figure size 720x432 with 1 Axes>"
      ]
     },
     "metadata": {
      "needs_background": "light"
     },
     "output_type": "display_data"
    }
   ],
   "source": [
    "fig, ax = plt.subplots(figsize=(10, 6))\n",
    "ax.bar(range(len(sorted_counts)), sorted_counts.values())\n",
    "ax.set_xlabel(\"Rank\")\n",
    "ax.set_ylabel(\"Frequency\")\n",
    "ax.set_title(\"Emoji Distribution\")\n",
    "\n",
    "del fig, ax"
   ]
  },
  {
   "cell_type": "markdown",
   "metadata": {},
   "source": [
    "# Counting Data Streams\n",
    "Now that we have worked with two ways of sampling data, some might think this is as far as we can go, but that is not quite true; we have counting data streams that allow us to compress the data further. We will be working with two counters, a bloom filter utilizing hashing, and a lossy counter.\n",
    "\n",
    "Below is the class `HashFunction`, which generates a hash in the `__call__` function, which returns two hashes added together following the slots modulus."
   ]
  },
  {
   "cell_type": "code",
   "execution_count": 13,
   "metadata": {},
   "outputs": [
    {
     "name": "stdout",
     "output_type": "stream",
     "text": [
      "2931 2847\n"
     ]
    }
   ],
   "source": [
    "class HashFunction:\n",
    "    def __init__(self, num_slots):\n",
    "        self.num_slots = num_slots\n",
    "        \n",
    "    def __call__(self, x):\n",
    "        return (hash(self) + hash(x)) % self.num_slots\n",
    "\n",
    "h1, h2 = HashFunction(7919), HashFunction(7919)\n",
    "\n",
    "print(h1(\"😂\"), h2(\"😂\")) # The two hash functions are distinct, but both are deterministic\n",
    "\n",
    "del h1, h2"
   ]
  },
  {
   "cell_type": "markdown",
   "metadata": {},
   "source": [
    "# Bloom Filters\n",
    "A bloom filter is a space-efficient probabilistic data structure. Because of the hash functions utilized, some hashes can overlap. We can see this with some of the emojis that we input; the chances are that some of them will overlap. A benefit to this is that the hashes allow for all of this information to be highly compressed. Two things that we can say from the bloom filter are:\n",
    "\n",
    "that an item has not appeared in the data stream so far; or\n",
    "that an item has possibly appeared in the data stream so far.\n",
    "\n",
    "The class `BloomFilter` contains two functions, `check_appearance` and `do_filtering`. `do_filtering` iterates through the stream of Tweets, extracts the emojis, and passes the individual emojis into the `HashFunction`. The `check_appearance` function is not required to continue, and it is simply a way to ask if an emoji that has possibly appeared in the data stream has appeared so far. "
   ]
  },
  {
   "cell_type": "code",
   "execution_count": 14,
   "metadata": {},
   "outputs": [],
   "source": [
    "class BloomFilter:\n",
    "    def __init__(self, num_slots, num_hash_fns):\n",
    "        self.slots = np.zeros(num_slots, dtype=int)\n",
    "        self.hash_fns = [HashFunction(num_slots) for _ in range(num_hash_fns)] # A list of distinct hash functions\n",
    "    \n",
    "    def check_appearance(self, item):\n",
    "        '''\n",
    "        Returns a bool value indicating whether an item has appeared or not\n",
    "        '''\n",
    "        test_hashes = np.zeros(num_hash_fns)\n",
    "        for hash_item in range(len(self.hash_fns)):\n",
    "            if self.slots[self.hash_fns[hash_item](item)] == 1:\n",
    "                test_hashes[hash_item] = 1\n",
    "                \n",
    "        if np.count_nonzero(test_hashes) != 5:\n",
    "            return False\n",
    "        else:\n",
    "            return True\n",
    "    \n",
    "    def do_filtering(self, stream):\n",
    "        '''\n",
    "        Iterates over a stream, collects items of interest, calculates the fingerprints and records the appearance\n",
    "        '''\n",
    "        self.slots = np.zeros_like(self.slots) # reset the slots\n",
    "        \n",
    "        for item in stream:\n",
    "            emojis = extract_emojis(item)\n",
    "            for emoji in emojis:\n",
    "                for hash_item in range(len(self.hash_fns)):\n",
    "                    self.slots[self.hash_fns[hash_item](emoji)] = 1\n",
    "\n",
    "            yield self.slots.copy()"
   ]
  },
  {
   "cell_type": "code",
   "execution_count": 15,
   "metadata": {},
   "outputs": [
    {
     "name": "stdout",
     "output_type": "stream",
     "text": [
      "{'😕', '💀', '🛑', '🔸', '🍾', '🍁', '😤', '🏾', '🥺', '🗣', '🏻', '🔁', '💪', '〰', '🏿', '🗓', '😳', '😊', '👉', '\\U0001f7e1', '🥶', '📌', '🤾', '🏒', '🖼', '❌', '😜', '🤭', '💬', '😁', '📰', '🏴', '⚫', '💸', '🍓', '💎', '🎬', '🎯', '⤵', '✨', '🔗', '👇', '🤯', '🌟', '👆', '💵', '📝', '⤴', '🎙', '✍', '💰', '😹', '🤩', '🐑', '😨', '📍', '🚏', '💣', '🦁', '🔜', '❤', '🐐', '🔥', '📡', '☺', '🏁', '🏑', '🤡', '🧬', '😱', '‼', '🌞', '🎟', '🔽', '😭', '♂', '🦱', '🐻', '🆘', '⚠', '🎧', '😎', '⏱', '🚨', '🤨', '⚽', '👻', '🔔', '👀', '⁉', '▪', '🌄', '👈', '🏆', '🤣', '🌅', '🎾', '✅', '☀', '🎫', '🏃', '🏀', '♀', '🏼', '🔋', '👨', '❎', '🤦', '🦍', '🤬', '☠', '🎥', '🦌', '📸', '🗼', '\\U0001f7e9', '🍳', '🎤', '🎮', '🏝', '📲', '⛹', '🙃', '🌴', '🙏', '🥊', '😬', '🏄', '😆', '👊', '🙌', '\\U0001f9a7', '📜', '\\U0001f7e2', '🆚', '🤷', '💯', '👩', '👑', '👏', '😐', '✊', '🤗', '💛', '🤔', '🤖', '👌', '🔃', '⚾', '💻', '😅', '🔴', '🦅', '📺', '🤸', '🚴', '💚', '😞', '🦚', '🎉', '🏅', '🔵', '🖖', '🏽', '📈', '▶', '💭', '➡', '😂', '🤘', '🤴', '⛳', '♾', '💍', '💕', '📣', '⭐', '🙈', '🍛', '💥', '🥒', '\\U0001f9be', '🐳', '🔌', '👎', '📄', '🤑'}\n"
     ]
    }
   ],
   "source": [
    "num_slots, num_hash_fns = 7919, 5\n",
    "bloom_filter = BloomFilter(num_slots, num_hash_fns)\n",
    "\n",
    "emojis_appeared = set()\n",
    "for tweet in tweets:\n",
    "    emojis_appeared = emojis_appeared.union(extract_emojis(tweet))\n",
    "emojis_not_appeared = set(UNICODE_EMOJI.keys()) - emojis_appeared\n",
    "\n",
    "for _ in bloom_filter.do_filtering(tweets):\n",
    "    pass\n",
    "\n",
    "print(emojis_appeared)"
   ]
  },
  {
   "cell_type": "markdown",
   "metadata": {},
   "source": [
    "# Lossy Counter\n",
    "The lossy counter is a very simple function that identifies elements in a data stream whose frequency count exceeds a user-given threshold. It works by adding the data into buckets for frequent items.\n",
    "\n",
    "The `LossyCounter` has a single function, `do_counting`, that iterates through the streamed Twitter data and adds the Tweet emojis to a bucket.  If the function is dropping an emoji, it's not enough to set the count of that emoji to zero. The emoji must be completely deleted from the counts. "
   ]
  },
  {
   "cell_type": "code",
   "execution_count": 16,
   "metadata": {},
   "outputs": [],
   "source": [
    "class LossyCounter:\n",
    "    \n",
    "    def __init__(self, bucket_size):\n",
    "        \n",
    "        self.bucket_size = bucket_size\n",
    "        self.counts = defaultdict(int) # recommended to use defaultdict, but an ordinary dict works fine too\n",
    "    \n",
    "    def do_counting(self, stream):\n",
    "        \"\"\"\n",
    "        Iterates over a stream, counts the items and drops the infrequent ones in a bucket\n",
    "        \"\"\"\n",
    "        \n",
    "        self.counts.clear() # reset the counts\n",
    "        num_items_in_bucket = 0 # optional: the current number of items in the \"bucket\"\n",
    "        \n",
    "        bucket = []\n",
    "        for item in stream: # iterate over the stream   \n",
    "            emojis = extract_emojis(item)\n",
    "            for emoji in emojis:\n",
    "                bucket.append(emoji)\n",
    "            num_items_in_bucket += 1\n",
    "            \n",
    "            if num_items_in_bucket == self.bucket_size:\n",
    "                for emoji in bucket:\n",
    "                    self.counts[emoji] = self.counts.get(emoji, 0) + 1\n",
    "                \n",
    "                self.counts = {k: y - 1 for k, y in self.counts.items()}\n",
    "                self.counts = {k: y for k, y in self.counts.items() if y!=0}\n",
    "                bucket = []\n",
    "                num_items_in_bucket = 0   \n",
    "            yield self.counts.copy()\n",
    "            \n",
    "        if len(self.counts) == 0:\n",
    "            for item in stream:\n",
    "                emojis = extract_emojis(item)\n",
    "                for emoji in emojis:\n",
    "                    self.counts[emoji] = self.counts.get(emoji, 0) + 1\n",
    "                    \n",
    "            yield self.counts.copy()"
   ]
  },
  {
   "cell_type": "code",
   "execution_count": 17,
   "metadata": {},
   "outputs": [
    {
     "name": "stdout",
     "output_type": "stream",
     "text": [
      "defaultdict(<class 'int'>, {'🔗': 2, '❤': 199, '🔥': 191, '🤯': 7, '🗣': 183, '🚨': 72, '🔴': 2, '🏀': 116, '🎫': 13, '🤖': 1, '\\U0001f9be': 2, '🤭': 1, '😱': 13, '🔌': 89, '🔋': 83, '🏆': 72, '🔸': 10, '🐐': 5, '👏': 15, '🤗': 3, '😂': 34, '🏝': 4, '🤣': 21, '😨': 1, '🔔': 41, '🔃': 41, '🏁': 5, '🚴': 4, '⚽': 10, '🎾': 6, '▶': 18, '‼': 15, '⭐': 1, '☀': 3, '🦌': 4, '👉': 18, '👈': 18, '💀': 9, '📌': 2, '🤔': 8, '📰': 1, '💥': 14, '👇': 13, '🏾': 14, '👀': 32, '⚫': 7, '\\U0001f7e1': 7, '\\U0001f7e2': 7, '💵': 31, '💪': 16, '🤷': 5, '🏽': 9, '♂': 7, '😆': 6, '😎': 2, '\\U0001f7e9': 2, '📲': 6, '💭': 1, '✍': 6, '🏻': 7, '😅': 9, '🙏': 2, '♾': 2, '🤴': 1, '🏿': 9, '🤡': 2, '😳': 12, '💰': 33, '👨': 12, '🦱': 9, '👩': 3, '😹': 1, '🐳': 1, '😬': 3, '👑': 2, '🍾': 1, '🤨': 1, '🥶': 2, '👌': 1, '😐': 1, '💯': 3, '📍': 1, '🌄': 1, '⛹': 1, '🌴': 1, '😭': 16, '🤦': 2, '♀': 2, '👎': 1, '😁': 2, '💎': 1, '✨': 3, '🌟': 6, '💕': 1, '⤵': 1, '🦚': 6, '🐻': 1, '💸': 3, '🎉': 4, '📈': 5, '🙈': 2, '❌': 1, '🤑': 2, '🚏': 1, '👆': 1, '🏅': 2, '🦅': 1, '☺': 2, '🎥': 6, '🛑': 9, '⚾': 3, '😤': 1, '🆘': 1, '😜': 3, '🙌': 5, '🦍': 2, '📝': 1, '😕': 1, '📜': 1, '🎟': 1, '🍳': 1, '🍛': 1, '📄': 2, '🔁': 1, '☠': 1, '🐑': 1, '👻': 1, '🏃': 1, '👊': 2, '🏴': 1, '🦁': 3, '🤬': 1, '⚠': 5, '🗓': 13, '🤩': 1, '🔵': 14, '\\U0001f9a7': 1, '🧬': 2, '🥺': 12, '〰': 2, '😞': 1, '🎬': 2, '📺': 4, '📡': 2, '🎙': 3, '🎧': 1, '🆚': 1, '🖖': 1, '💻': 2, '🤸': 1, '🥒': 1, '🤾': 1, '💣': 1, '🍓': 11, '✊': 1, '😊': 1, '🏄': 1, '💍': 1, '🌅': 1, '🖼': 1, '⁉': 7, '⏱': 1, '🍁': 1, '🎤': 1, '📸': 4, '🔜': 1, '🏼': 2, '🤘': 1, '📣': 1, '🎮': 2, '🏑': 1, '🎯': 2, '➡': 5, '🔽': 1, '💚': 1, '💛': 1, '🌞': 1, '🙃': 1, '▪': 3, '🏒': 1, '✅': 5, '⛳': 1, '🥊': 1, '💬': 1, '🗼': 1, '❎': 1, '⤴': 1})\n"
     ]
    }
   ],
   "source": [
    "bucket_size = 100000\n",
    "lossy_count = LossyCounter(bucket_size)\n",
    "\n",
    "# Collect all emojis that appeared\n",
    "emojis_appeared = set()\n",
    "for tweet in tweets:\n",
    "    emojis_appeared = emojis_appeared.union(extract_emojis(tweet))\n",
    "\n",
    "# Do counting. Don't have to collect the results. Just exhaust the stream\n",
    "for _ in lossy_count.do_counting(tweets):\n",
    "    pass\n",
    "\n",
    "print(lossy_count.counts)"
   ]
  },
  {
   "cell_type": "code",
   "execution_count": 18,
   "metadata": {},
   "outputs": [
    {
     "data": {
      "image/png": "[encoded data removed]",
      "text/plain": [
       "<Figure size 720x432 with 1 Axes>"
      ]
     },
     "metadata": {
      "needs_background": "light"
     },
     "output_type": "display_data"
    }
   ],
   "source": [
    "fig, ax = plt.subplots(figsize=(10, 6))\n",
    "ax.bar(range(len(sorted_counts)), sorted_counts.values())\n",
    "ax.set_xlabel(\"Rank\")\n",
    "ax.set_ylabel(\"Frequency\")\n",
    "ax.set_title(\"Emoji Distribution\")\n",
    "\n",
    "del fig, ax"
   ]
  }
 ],
 "metadata": {
  "kernelspec": {
   "display_name": "Python 3",
   "language": "python",
   "name": "python3"
  },
  "language_info": {
   "codemirror_mode": {
    "name": "ipython",
    "version": 3
   },
   "file_extension": ".py",
   "mimetype": "text/x-python",
   "name": "python",
   "nbconvert_exporter": "python",
   "pygments_lexer": "ipython3",
   "version": "3.7.6"
  }
 },
 "nbformat": 4,
 "nbformat_minor": 4
}
